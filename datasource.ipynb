{
 "cells": [
  {
   "cell_type": "markdown",
   "source": [
    "## Dataset"
   ],
   "metadata": {
    "collapsed": false
   }
  },
  {
   "cell_type": "code",
   "execution_count": null,
   "outputs": [],
   "source": [
    "!pip install -q kaggle"
   ],
   "metadata": {
    "collapsed": false
   }
  },
  {
   "cell_type": "code",
   "execution_count": null,
   "outputs": [
    {
     "output_type": "stream",
     "name": "stdout",
     "text": [
      "Downloading the-simpsons-characters-dataset.zip to /content\n",
      "100% 1.07G/1.08G [00:07<00:00, 196MB/s]\n",
      "100% 1.08G/1.08G [00:07<00:00, 164MB/s]\n"
     ]
    }
   ],
   "source": [
    " !kaggle datasets download -d alexattia/the-simpsons-characters-dataset"
   ],
   "metadata": {
    "collapsed": false
   }
  },
  {
   "cell_type": "code",
   "execution_count": null,
   "outputs": [],
   "source": [
    "!unzip the-simpsons-characters-dataset.zip"
   ],
   "metadata": {
    "collapsed": false
   }
  },
  {
   "cell_type": "code",
   "execution_count": null,
   "outputs": [
    {
     "output_type": "stream",
     "name": "stdout",
     "text": [
      "mkdir: cannot create directory ‘simpsons-dataset’: File exists\n",
      "mv: cannot stat 'simpsons_dataset': No such file or directory\n",
      "mv: cannot stat 'annotation.txt': No such file or directory\n",
      "mv: cannot stat 'characters_illustration.png': No such file or directory\n",
      "mv: cannot stat 'number_pic_char.csv': No such file or directory\n",
      "mv: cannot stat 'weights.best.hdf5': No such file or directory\n"
     ]
    }
   ],
   "source": [
    "!mkdir simpsons-dataset\n",
    "!mv kaggle_simpson_testset simpsons-dataset\n",
    "!mv simpsons_dataset simpsons-dataset\n",
    "!mv annotation.txt simpsons-dataset\n",
    "!mv characters_illustration.png simpsons-dataset\n",
    "!mv number_pic_char.csv simpsons-dataset\n",
    "!mv weights.best.hdf5 simpsons-dataset"
   ],
   "metadata": {
    "collapsed": false
   }
  },
  {
   "cell_type": "markdown",
   "source": [
    "### Pre-Processing"
   ],
   "metadata": {
    "collapsed": false
   }
  },
  {
   "cell_type": "code",
   "execution_count": null,
   "outputs": [
    {
     "output_type": "stream",
     "name": "stdout",
     "text": [
      "total 724K\n",
      "drwxr-xr-x 45 root root 4.0K Mar  6 12:50 .\n",
      "drwxr-xr-x  4 root root 4.0K Mar  6 12:53 ..\n",
      "drwxr-xr-x  2 root root  32K Mar  6 12:50 abraham_grampa_simpson\n",
      "drwxr-xr-x  2 root root 4.0K Mar  6 12:50 agnes_skinner\n",
      "drwxr-xr-x  2 root root  20K Mar  6 12:50 apu_nahasapeemapetilon\n",
      "drwxr-xr-x  2 root root 4.0K Mar  6 12:50 barney_gumble\n",
      "drwxr-xr-x  2 root root  36K Mar  6 12:50 bart_simpson\n",
      "drwxr-xr-x  2 root root 4.0K Mar  6 12:50 carl_carlson\n",
      "drwxr-xr-x  2 root root  36K Mar  6 12:50 charles_montgomery_burns\n",
      "drwxr-xr-x  2 root root  36K Mar  6 12:50 chief_wiggum\n",
      "drwxr-xr-x  2 root root 4.0K Mar  6 12:50 cletus_spuckler\n",
      "drwxr-xr-x  2 root root  20K Mar  6 12:50 comic_book_guy\n",
      "drwxr-xr-x  2 root root 4.0K Mar  6 12:50 disco_stu\n",
      "drwxr-xr-x  2 root root  20K Mar  6 12:50 edna_krabappel\n",
      "drwxr-xr-x  2 root root 4.0K Mar  6 12:50 fat_tony\n",
      "drwxr-xr-x  2 root root 4.0K Mar  6 12:50 gil\n",
      "drwxr-xr-x  2 root root 4.0K Mar  6 12:50 groundskeeper_willie\n",
      "drwxr-xr-x  2 root root  68K Mar  6 12:50 homer_simpson\n",
      "drwxr-xr-x  2 root root  20K Mar  6 12:50 kent_brockman\n",
      "drwxr-xr-x  2 root root  36K Mar  6 12:50 krusty_the_clown\n",
      "drwxr-xr-x  2 root root  12K Mar  6 12:50 lenny_leonard\n",
      "drwxr-xr-x  2 root root 4.0K Mar  6 12:50 lionel_hutz\n",
      "drwxr-xr-x  2 root root  36K Mar  6 12:50 lisa_simpson\n",
      "drwxr-xr-x  2 root root 4.0K Mar  6 12:50 maggie_simpson\n",
      "drwxr-xr-x  2 root root  36K Mar  6 12:50 marge_simpson\n",
      "drwxr-xr-x  2 root root 4.0K Mar  6 12:50 martin_prince\n",
      "drwxr-xr-x  2 root root  12K Mar  6 12:50 mayor_quimby\n",
      "drwxr-xr-x  2 root root  36K Mar  6 12:50 milhouse_van_houten\n",
      "drwxr-xr-x  2 root root 4.0K Mar  6 12:50 miss_hoover\n",
      "drwxr-xr-x  2 root root  44K Mar  6 12:50 moe_szyslak\n",
      "drwxr-xr-x  2 root root  44K Mar  6 12:50 ned_flanders\n",
      "drwxr-xr-x  2 root root  12K Mar  6 12:50 nelson_muntz\n",
      "drwxr-xr-x  2 root root 4.0K Mar  6 12:50 otto_mann\n",
      "drwxr-xr-x  2 root root 4.0K Mar  6 12:50 patty_bouvier\n",
      "drwxr-xr-x  2 root root  36K Mar  6 12:50 principal_skinner\n",
      "drwxr-xr-x  2 root root 4.0K Mar  6 12:50 professor_john_frink\n",
      "drwxr-xr-x  2 root root 4.0K Mar  6 12:50 rainier_wolfcastle\n",
      "drwxr-xr-x  2 root root 4.0K Mar  6 12:50 ralph_wiggum\n",
      "drwxr-xr-x  2 root root 4.0K Mar  6 12:50 selma_bouvier\n",
      "drwxr-xr-x  2 root root  32K Mar  6 12:50 sideshow_bob\n",
      "drwxr-xr-x  2 root root 4.0K Mar  6 12:50 sideshow_mel\n",
      "drwxr-xr-x 44 root root 4.0K Mar  6 12:50 simpsons_dataset\n",
      "drwxr-xr-x  2 root root 4.0K Mar  6 12:50 snake_jailbird\n",
      "drwxr-xr-x  2 root root 4.0K Mar  6 12:50 troy_mcclure\n",
      "drwxr-xr-x  2 root root 4.0K Mar  6 12:50 waylon_smithers\n"
     ]
    }
   ],
   "source": [
    "!ls simpsons-dataset/simpsons_dataset -lah"
   ],
   "metadata": {
    "collapsed": false
   }
  },
  {
   "cell_type": "code",
   "execution_count": null,
   "outputs": [],
   "source": [
    "!rm -r simpsons-dataset/simpsons_dataset/agnes_skinner\n",
    "!rm -r simpsons-dataset/simpsons_dataset/barney_gumble/\n",
    "!rm -r simpsons-dataset/simpsons_dataset/carl_carlson/\n",
    "!rm -r simpsons-dataset/simpsons_dataset/cletus_spuckler/\n",
    "!rm -r simpsons-dataset/simpsons_dataset/comic_book_guy/\n",
    "!rm -r simpsons-dataset/simpsons_dataset/disco_stu/\n",
    "!rm -r simpsons-dataset/simpsons_dataset/edna_krabappel/\n",
    "!rm -r simpsons-dataset/simpsons_dataset/fat_tony/\n",
    "!rm -r simpsons-dataset/simpsons_dataset/gil/\n",
    "!rm -r simpsons-dataset/simpsons_dataset/groundskeeper_willie/\n",
    "!rm -r simpsons-dataset/simpsons_dataset/kent_brockman/\n",
    "!rm -r simpsons-dataset/simpsons_dataset/lenny_leonard/\n",
    "!rm -r simpsons-dataset/simpsons_dataset/lionel_hutz/\n",
    "!rm -r simpsons-dataset/simpsons_dataset/martin_prince/\n",
    "!rm -r simpsons-dataset/simpsons_dataset/mayor_quimby/\n",
    "!rm -r simpsons-dataset/simpsons_dataset/miss_hoover/\n",
    "!rm -r simpsons-dataset/simpsons_dataset/nelson_muntz/\n",
    "!rm -r simpsons-dataset/simpsons_dataset/otto_mann/\n",
    "!rm -r simpsons-dataset/simpsons_dataset/patty_bouvier/\n",
    "!rm -r simpsons-dataset/simpsons_dataset/professor_john_frink/\n",
    "!rm -r simpsons-dataset/simpsons_dataset/rainier_wolfcastle/\n",
    "!rm -r simpsons-dataset/simpsons_dataset/ralph_wiggum/\n",
    "!rm -r simpsons-dataset/simpsons_dataset/selma_bouvier/\n",
    "!rm -r simpsons-dataset/simpsons_dataset/sideshow_mel/\n",
    "!rm -r simpsons-dataset/simpsons_dataset/snake_jailbird/\n",
    "!rm -r simpsons-dataset/simpsons_dataset/troy_mcclure/\n",
    "!rm -r simpsons-dataset/simpsons_dataset/waylon_smithers/\n"
   ],
   "metadata": {
    "collapsed": false
   }
  },
  {
   "cell_type": "code",
   "execution_count": null,
   "outputs": [],
   "source": [
    "!rm -r simpsons-dataset/train/maggie_simpson/"
   ],
   "metadata": {
    "collapsed": false
   }
  },
  {
   "cell_type": "code",
   "execution_count": null,
   "outputs": [
    {
     "output_type": "stream",
     "name": "stdout",
     "text": [
      "total 540K\n",
      "drwxr-xr-x 17 root root 4.0K Mar  6 13:35 \u001B[0m\u001B[01;34m.\u001B[0m/\n",
      "drwxr-xr-x  4 root root 4.0K Mar  6 12:53 \u001B[01;34m..\u001B[0m/\n",
      "drwxr-xr-x  2 root root  32K Mar  6 12:50 \u001B[01;34mabraham_grampa_simpson\u001B[0m/\n",
      "drwxr-xr-x  2 root root  20K Mar  6 12:50 \u001B[01;34mapu_nahasapeemapetilon\u001B[0m/\n",
      "drwxr-xr-x  2 root root  36K Mar  6 12:50 \u001B[01;34mbart_simpson\u001B[0m/\n",
      "drwxr-xr-x  2 root root  36K Mar  6 12:50 \u001B[01;34mcharles_montgomery_burns\u001B[0m/\n",
      "drwxr-xr-x  2 root root  36K Mar  6 12:50 \u001B[01;34mchief_wiggum\u001B[0m/\n",
      "drwxr-xr-x  2 root root  68K Mar  6 12:50 \u001B[01;34mhomer_simpson\u001B[0m/\n",
      "drwxr-xr-x  2 root root  36K Mar  6 12:50 \u001B[01;34mkrusty_the_clown\u001B[0m/\n",
      "drwxr-xr-x  2 root root  36K Mar  6 12:50 \u001B[01;34mlisa_simpson\u001B[0m/\n",
      "drwxr-xr-x  2 root root 4.0K Mar  6 12:50 \u001B[01;34mmaggie_simpson\u001B[0m/\n",
      "drwxr-xr-x  2 root root  36K Mar  6 12:50 \u001B[01;34mmarge_simpson\u001B[0m/\n",
      "drwxr-xr-x  2 root root  36K Mar  6 12:50 \u001B[01;34mmilhouse_van_houten\u001B[0m/\n",
      "drwxr-xr-x  2 root root  44K Mar  6 12:50 \u001B[01;34mmoe_szyslak\u001B[0m/\n",
      "drwxr-xr-x  2 root root  44K Mar  6 12:50 \u001B[01;34mned_flanders\u001B[0m/\n",
      "drwxr-xr-x  2 root root  36K Mar  6 12:50 \u001B[01;34mprincipal_skinner\u001B[0m/\n",
      "drwxr-xr-x  2 root root  32K Mar  6 12:50 \u001B[01;34msideshow_bob\u001B[0m/\n"
     ]
    }
   ],
   "source": [
    "ls -lah simpsons-dataset/simpsons_dataset/"
   ],
   "metadata": {
    "collapsed": false
   }
  }
 ],
 "metadata": {
  "kernelspec": {
   "display_name": "Python 3",
   "language": "python",
   "name": "python3"
  },
  "language_info": {
   "codemirror_mode": {
    "name": "ipython",
    "version": 2
   },
   "file_extension": ".py",
   "mimetype": "text/x-python",
   "name": "python",
   "nbconvert_exporter": "python",
   "pygments_lexer": "ipython2",
   "version": "2.7.6"
  }
 },
 "nbformat": 4,
 "nbformat_minor": 0
}
